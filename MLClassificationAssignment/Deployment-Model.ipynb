{
 "cells": [
  {
   "cell_type": "code",
   "execution_count": 1,
   "id": "4c89f513-359b-4492-8874-6094348f9578",
   "metadata": {},
   "outputs": [],
   "source": [
    "import pickle\n",
    "file_name=\"finalized_model_SVM_Classifier.sav\"\n",
    "loaded=pickle.load(open(file_name,'rb'))"
   ]
  },
  {
   "cell_type": "code",
   "execution_count": 2,
   "id": "85a521a9-eab0-4140-8f70-2da531925369",
   "metadata": {},
   "outputs": [
    {
     "data": {
      "text/plain": [
       "array([ True])"
      ]
     },
     "execution_count": 2,
     "metadata": {},
     "output_type": "execute_result"
    }
   ],
   "source": [
    "result=loaded.predict([[2,76.45,3,0,148.11,57.48,3.07,137.52,4.62,12.51,False,False,False,False,False,False,True,True,False]])\n",
    "result"
   ]
  }
 ],
 "metadata": {
  "kernelspec": {
   "display_name": "Python [conda env:base] *",
   "language": "python",
   "name": "conda-base-py"
  },
  "language_info": {
   "codemirror_mode": {
    "name": "ipython",
    "version": 3
   },
   "file_extension": ".py",
   "mimetype": "text/x-python",
   "name": "python",
   "nbconvert_exporter": "python",
   "pygments_lexer": "ipython3",
   "version": "3.12.7"
  }
 },
 "nbformat": 4,
 "nbformat_minor": 5
}
